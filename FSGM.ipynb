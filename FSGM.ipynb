{
  "nbformat": 4,
  "nbformat_minor": 0,
  "metadata": {
    "colab": {
      "provenance": []
    },
    "kernelspec": {
      "name": "python3",
      "display_name": "Python 3"
    },
    "language_info": {
      "name": "python"
    }
  },
  "cells": [
    {
      "cell_type": "code",
      "execution_count": null,
      "metadata": {
        "colab": {
          "base_uri": "https://localhost:8080/"
        },
        "id": "VQzI2U6rjpd8",
        "outputId": "f3486f35-d860-4841-b0c2-60fafe6cfe11"
      },
      "outputs": [
        {
          "output_type": "stream",
          "name": "stdout",
          "text": [
            "Predicted class: 5\n",
            "Original class: 5\n"
          ]
        }
      ],
      "source": [
        "import tensorflow as tf\n",
        "import numpy as np\n",
        "import matplotlib.pyplot as plt\n",
        "from tensorflow.keras.datasets import mnist\n",
        "\n",
        "# Load the MNIST dataset\n",
        "(x_train, y_train), (x_test, y_test) = mnist.load_data()\n",
        "\n",
        "# Normalize the input data\n",
        "x_train = x_train.astype('float32') / 255\n",
        "x_test = x_test.astype('float32') / 255\n",
        "\n",
        "# Reshape the input data to 4D tensors\n",
        "x_train = np.reshape(x_train, (x_train.shape[0], 28, 28, 1))\n",
        "x_test = np.reshape(x_test, (x_test.shape[0], 28, 28, 1))\n",
        "\n",
        "# Load the pre-trained model\n",
        "model = tf.keras.models.load_model('mnist_model.h5')\n",
        "\n",
        "# Define the loss function\n",
        "loss_object = tf.keras.losses.CategoricalCrossentropy()\n",
        "\n",
        "# Define the epsilon value for FGSM\n",
        "epsilon = 0.6\n",
        "\n",
        "# Select a random test image\n",
        "image = x_test[np.random.randint(0, x_test.shape[0])]\n",
        "\n",
        "# Add a batch dimension to the input tensor\n",
        "input_tensor = np.expand_dims(image, axis=0)\n",
        "\n",
        "# Compute the gradient of the loss with respect to the input tensor\n",
        "input_tensor = tf.convert_to_tensor(input_tensor)\n",
        "input_tensor = tf.Variable(input_tensor)\n",
        "with tf.GradientTape() as tape:\n",
        "    predictions = model(input_tensor)\n",
        "    loss = loss_object(tf.keras.utils.to_categorical([y_test[np.argmax(predictions)]], 10), predictions)\n",
        "gradient = tape.gradient(loss, input_tensor)\n",
        "\n",
        "# Generate the adversarial example using FGSM\n",
        "signed_grad = tf.sign(gradient)\n",
        "perturbed_tensor = input_tensor + epsilon * signed_grad\n",
        "perturbed_tensor = tf.clip_by_value(perturbed_tensor, 0, 1)\n",
        "\n",
        "# Predict the class of the adversarial example\n",
        "predictions = model(perturbed_tensor)\n",
        "original = model(input_tensor)\n",
        "predicted_class = tf.argmax(predictions[0]).numpy()\n",
        "original_class =  tf.argmax(original[0]).numpy()\n",
        "\n",
        "# Print the predicted class\n",
        "print('Predicted class:', predicted_class)\n",
        "print('Original class:', original_class)\n"
      ]
    },
    {
      "cell_type": "code",
      "source": [
        "image = np.squeeze(image)\n",
        "perturbed_image = np.squeeze(perturbed_tensor.numpy())\n",
        "\n",
        "# Display the original image and the perturbed image\n",
        "fig, (ax1, ax2) = plt.subplots(1, 2)\n",
        "ax1.imshow(image, cmap='gray')\n",
        "ax1.set_title('Original Image')\n",
        "ax2.imshow(perturbed_image, cmap='gray')\n",
        "ax2.set_title('Perturbed Image')\n",
        "plt.show()"
      ],
      "metadata": {
        "id": "06MsWA9ympA_",
        "colab": {
          "base_uri": "https://localhost:8080/",
          "height": 308
        },
        "outputId": "78f36b64-815a-4a1b-b20a-e11b4b979737"
      },
      "execution_count": null,
      "outputs": [
        {
          "output_type": "display_data",
          "data": {
            "text/plain": [
              "<Figure size 640x480 with 2 Axes>"
            ],
            "image/png": "[encoded data removed]"
          },
          "metadata": {}
        }
      ]
    },
    {
      "cell_type": "code",
      "source": [],
      "metadata": {
        "id": "S8MAlFUx3UxE"
      },
      "execution_count": null,
      "outputs": []
    }
  ]
}